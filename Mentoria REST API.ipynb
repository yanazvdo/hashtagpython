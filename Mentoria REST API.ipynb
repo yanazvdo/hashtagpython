{
 "cells": [
  {
   "cell_type": "markdown",
   "id": "0baaa13b",
   "metadata": {},
   "source": [
    "### Consumir dados de uma API"
   ]
  },
  {
   "cell_type": "code",
   "execution_count": 1,
   "id": "dbdd6973",
   "metadata": {},
   "outputs": [],
   "source": [
    "import requests\n",
    "\n",
    "link = \"https://economia.awesomeapi.com.br/last/USD-BRL,EUR-BRL,BTC-BRL\"\n",
    "\n",
    "requisicao = requests.get(link)"
   ]
  },
  {
   "cell_type": "code",
   "execution_count": 2,
   "id": "f60e4ba9",
   "metadata": {},
   "outputs": [
    {
     "name": "stdout",
     "output_type": "stream",
     "text": [
      "{'USDBRL': {'code': 'USD', 'codein': 'BRL', 'name': 'Dólar Americano/Real Brasileiro', 'high': '5.4687', 'low': '5.3907', 'varBid': '0.0461', 'pctChange': '0.85', 'bid': '5.4593', 'ask': '5.46', 'timestamp': '1658339067', 'create_date': '2022-07-20 14:44:27'}, 'EURBRL': {'code': 'EUR', 'codein': 'BRL', 'name': 'Euro/Real Brasileiro', 'high': '5.5637', 'low': '5.5084', 'varBid': '0.0159', 'pctChange': '0.29', 'bid': '5.5466', 'ask': '5.5502', 'timestamp': '1658339065', 'create_date': '2022-07-20 14:44:25'}, 'BTCBRL': {'code': 'BTC', 'codein': 'BRL', 'name': 'Bitcoin/Real Brasileiro', 'high': '132.647', 'low': '124.504', 'varBid': '4521', 'pctChange': '3.61', 'bid': '129.743', 'ask': '129.743', 'timestamp': '1658339048', 'create_date': '2022-07-20 14:44:08'}}\n"
     ]
    }
   ],
   "source": [
    "print(requisicao.json())"
   ]
  },
  {
   "cell_type": "markdown",
   "id": "fb303b0c",
   "metadata": {},
   "source": [
    "### Criar uma API com Flask"
   ]
  },
  {
   "cell_type": "code",
   "execution_count": null,
   "id": "13f8e5d1",
   "metadata": {},
   "outputs": [
    {
     "name": "stdout",
     "output_type": "stream",
     "text": [
      " * Serving Flask app \"__main__\" (lazy loading)\n",
      " * Environment: production\n",
      "\u001b[31m   WARNING: This is a development server. Do not use it in a production deployment.\u001b[0m\n",
      "\u001b[2m   Use a production WSGI server instead.\u001b[0m\n",
      " * Debug mode: off\n"
     ]
    },
    {
     "name": "stderr",
     "output_type": "stream",
     "text": [
      " * Running on http://127.0.0.1:5000/ (Press CTRL+C to quit)\n",
      "127.0.0.1 - - [20/Jul/2022 15:05:13] \"GET / HTTP/1.1\" 200 -\n",
      "127.0.0.1 - - [20/Jul/2022 15:05:13] \"GET /favicon.ico HTTP/1.1\" 404 -\n",
      "127.0.0.1 - - [20/Jul/2022 15:05:48] \"GET /vendas HTTP/1.1\" 404 -\n",
      "127.0.0.1 - - [20/Jul/2022 15:05:56] \"GET /vendas/produto HTTP/1.1\" 404 -\n"
     ]
    }
   ],
   "source": [
    "from flask import Flask\n",
    "import pandas as pd\n",
    "\n",
    "app = Flask(__name__) # cria o site\n",
    "tabela = pd.read_excel(\"Vendas - Dez.xlsx\")\n",
    "\n",
    "@app.route(\"/\") # decorator -> diz em qual link a função vai rodar\n",
    "def fat(): # função\n",
    "    faturamento = float(tabela[\"Valor Final\"].sum())\n",
    "    return {\"faturamento\": faturamento}\n",
    "\n",
    "@app.route(\"/vendas/produtos\") \n",
    "def vendas_produtos(): \n",
    "    tabela_vendas_produtos = tabela[[\"Produto\", \"Valor Final\"]].groupby(\"Produto\").sum()\n",
    "    dic_vendas_produtos = tabela_vendas_produtos.to_dict()\n",
    "    return dic_vendas_produtos\n",
    "\n",
    "@app.route(\"/vendas/produtos/<produto>\") \n",
    "def fat_produto(produto): \n",
    "    tabela_vendas_produtos = tabela[[\"Produto\", \"Valor Final\"]].groupby(\"Produto\").sum()\n",
    "    if produto in tabela_vendas_produtos.index:\n",
    "        vendas_produto = tabela_vendas_produtos.loc[produto]\n",
    "        dic_vendas_produto = vendas_produto.to_dict()\n",
    "        return dic_vendas_produto\n",
    "    else:\n",
    "        return {produto: \"Inexistente\"}\n",
    "    \n",
    "app.run() # no replit use app.run(host=\"0.0.0.0\") # coloca o site no ar"
   ]
  },
  {
   "cell_type": "code",
   "execution_count": null,
   "id": "71f7f184",
   "metadata": {},
   "outputs": [],
   "source": []
  }
 ],
 "metadata": {
  "kernelspec": {
   "display_name": "Python 3 (ipykernel)",
   "language": "python",
   "name": "python3"
  },
  "language_info": {
   "codemirror_mode": {
    "name": "ipython",
    "version": 3
   },
   "file_extension": ".py",
   "mimetype": "text/x-python",
   "name": "python",
   "nbconvert_exporter": "python",
   "pygments_lexer": "ipython3",
   "version": "3.9.12"
  }
 },
 "nbformat": 4,
 "nbformat_minor": 5
}
