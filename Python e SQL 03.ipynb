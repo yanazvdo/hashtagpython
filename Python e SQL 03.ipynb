{
 "cells": [
  {
   "cell_type": "markdown",
   "metadata": {},
   "source": [
    "# Desafio Python e SQL\n",
    "\n",
    "### Nesse desafio, vamos fazer uma consulta em SQL com uma condição e fazer o tratamento das informações no Python usando o pandas\n",
    "\n",
    "- Calcule o lucro diário da empresa \n",
    "\n",
    "- Tabela com as Vendas -> dbo.FactSales\n",
    "- Lucro é -> Sales Amount - TotalCost - DiscountAmount\n",
    "- Lembre que podemos ter mais de 1 transação por dia na tabela, então uma opção é usar o método groupby do pandas\n",
    "- Sugestão para ajudar na análise é plotar um gráfico do lucro diário"
   ]
  },
  {
   "cell_type": "code",
   "execution_count": null,
   "metadata": {},
   "outputs": [],
   "source": []
  }
 ],
 "metadata": {
  "kernelspec": {
   "display_name": "Python 3 (ipykernel)",
   "language": "python",
   "name": "python3"
  },
  "language_info": {
   "codemirror_mode": {
    "name": "ipython",
    "version": 3
   },
   "file_extension": ".py",
   "mimetype": "text/x-python",
   "name": "python",
   "nbconvert_exporter": "python",
   "pygments_lexer": "ipython3",
   "version": "3.9.12"
  }
 },
 "nbformat": 4,
 "nbformat_minor": 4
}
